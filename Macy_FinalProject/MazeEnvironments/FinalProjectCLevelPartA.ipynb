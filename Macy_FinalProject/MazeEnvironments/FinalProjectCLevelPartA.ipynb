{
  "cells": [
    {
      "cell_type": "code",
      "execution_count": null,
      "metadata": {
        "colab": {
          "base_uri": "https://localhost:8080/"
        },
        "id": "c6e13b81",
        "outputId": "1331a486-c856-4186-ec0a-7f3a94808c19"
      },
      "outputs": [
        {
          "data": {
            "text/plain": [
              "array([[[255, 255, 255],\n",
              "        [255, 255, 255],\n",
              "        [255, 255, 255],\n",
              "        ...,\n",
              "        [255, 255, 255],\n",
              "        [255, 255, 255],\n",
              "        [255, 255, 255]],\n",
              "\n",
              "       [[255, 255, 255],\n",
              "        [255, 255, 255],\n",
              "        [255, 255, 255],\n",
              "        ...,\n",
              "        [255, 255, 255],\n",
              "        [255, 255, 255],\n",
              "        [255, 255, 255]],\n",
              "\n",
              "       [[255, 255, 255],\n",
              "        [255, 255, 255],\n",
              "        [255, 255, 255],\n",
              "        ...,\n",
              "        [ 22,  36,  71],\n",
              "        [255, 255, 255],\n",
              "        [255, 255, 255]],\n",
              "\n",
              "       ...,\n",
              "\n",
              "       [[255, 255, 255],\n",
              "        [255, 255, 255],\n",
              "        [255, 255, 255],\n",
              "        ...,\n",
              "        [255, 255, 255],\n",
              "        [255, 255, 255],\n",
              "        [255, 255, 255]],\n",
              "\n",
              "       [[255, 255, 255],\n",
              "        [255, 255, 255],\n",
              "        [255, 255, 255],\n",
              "        ...,\n",
              "        [255, 255, 255],\n",
              "        [255, 255, 255],\n",
              "        [255, 255, 255]],\n",
              "\n",
              "       [[255, 255, 255],\n",
              "        [255, 255, 255],\n",
              "        [255, 255, 255],\n",
              "        ...,\n",
              "        [255, 255, 255],\n",
              "        [255, 255, 255],\n",
              "        [255, 255, 255]]], dtype=uint8)"
            ]
          },
          "execution_count": 16,
          "metadata": {},
          "output_type": "execute_result"
        }
      ],
      "source": [
        "\"\"\"\n",
        "Maze environment used in the first three modules of the course:\n",
        "\"Beginner to Master: Reinforcement Learning\".\n",
        "\"\"\"\n",
        "\n",
        "\n",
        "from typing import Tuple, Dict, Optional, Iterable\n",
        "\n",
        "import numpy as np\n",
        "\n",
        "import gym\n",
        "from gym import spaces\n",
        "from gym.error import DependencyNotInstalled\n",
        "\n",
        "import pygame\n",
        "from pygame import gfxdraw\n",
        "\n",
        "\n",
        "\n",
        "class Maze(gym.Env):\n",
        "    \"\"\"\n",
        "    Description:\n",
        "        The environment consists of a grid of (size x size) positions. The agent\n",
        "        starts the episode in location (row=0, col=0) if the environment is instantiated\n",
        "        without exploring starts or from a random location (different from the goal)\n",
        "         if it is. The goal is always at (row=size-1, col=size-1).\n",
        "    Observation:\n",
        "        Type: MultiDiscrete(2)\n",
        "        Num     Observation     Min     Max\n",
        "        0       row coordinate    0       size-1\n",
        "        1       col coordinate    0       size-1\n",
        "    Actions:\n",
        "        Type: Discrete(4)\n",
        "        Num     Action\n",
        "        0       Move up\n",
        "        1       Move right\n",
        "        2       Move down\n",
        "        3       Move left\n",
        "    Reward:\n",
        "        If the environment is instantiated with shaped rewards, then at each time step\n",
        "        the agent will receive a reward signal of the following magnitude:\n",
        "\n",
        "            r = - steps_to_goal(current_state) / steps_to_goal(furthest_state)\n",
        "\n",
        "        This ensures that the maximum reward awarded will be -1.0 and that at the goal\n",
        "        the reward will be 0.\n",
        "\n",
        "        If the environment is instantiated without shaped rewards, then at each time step\n",
        "        the agent will receive a reward of -1.0 until it reaches the goal.\n",
        "    Episode termination:\n",
        "        The episode terminates when the agent reaches the goal state.\n",
        "    \"\"\"\n",
        "\n",
        "    def __init__(self, exploring_starts: bool = True,\n",
        "                 shaped_rewards: bool = False, size: int = 5) -> None:\n",
        "        \"\"\"\n",
        "        Initialize the environment.\n",
        "\n",
        "        Args:\n",
        "            exploring_starts: should the agent restart at a random location or not.\n",
        "            shaped_rewards: should the environment shape the rewards.\n",
        "            size: size of the maze. Will be of shape (size x size).\n",
        "        \"\"\"\n",
        "        super().__init__()\n",
        "        self.exploring_starts = exploring_starts\n",
        "        self.shaped_rewards = shaped_rewards\n",
        "        self.state = (size - 1, size - 1)\n",
        "        self.goal = (size - 1, size - 1)\n",
        "        self.maze = self._create_maze(size=size)\n",
        "        self.distances = self._compute_distances(self.goal, self.maze)\n",
        "        self.action_space = spaces.Discrete(n=4)\n",
        "        self.action_space.action_meanings = {0: 'UP', 1: 'RIGHT', 2: 'DOWN', 3: \"LEFT\"}\n",
        "        self.observation_space = spaces.MultiDiscrete([size, size])\n",
        "\n",
        "        self.screen = None\n",
        "        self.agent_transform = None\n",
        "\n",
        "    def step(self, action: int) -> Tuple[Tuple[int, int], float, bool, Dict]:\n",
        "        \"\"\"\n",
        "        Take an action in the environment and observe the next transition.\n",
        "\n",
        "        Args:\n",
        "            action: An indicator of the action to be taken.\n",
        "\n",
        "        Returns:\n",
        "            The next transition.\n",
        "        \"\"\"\n",
        "        reward = self.compute_reward(self.state, action)\n",
        "        self.state = self._get_next_state(self.state, action)\n",
        "        done = self.state == self.goal\n",
        "        info = {}\n",
        "        return self.state, reward, done, info\n",
        "\n",
        "    def reset(self) -> Tuple[int, int]:\n",
        "        \n",
        "        #changed this to always change after a new episode. For some reason with the other one if it found a bad space it \n",
        "        #would not change the starting square and mess up the statistics\n",
        "        self.state = tuple(self.observation_space.sample())\n",
        "        while self.state == self.goal:\n",
        "            self.state = tuple(self.observation_space.sample())\n",
        "        return self.state\n",
        "        \"\"\"\n",
        "        Reset the environment to execute a new episode.\n",
        "\n",
        "        Returns: State representing the initial position of the agent.\n",
        "        \n",
        "        if self.exploring_starts:\n",
        "            while self.state == self.goal:\n",
        "                self.state = tuple(self.observation_space.sample())\n",
        "        else:\n",
        "            self.state = (0, 0)\n",
        "        return self.state\n",
        "        \"\"\"\n",
        "    def render(self, mode: str = 'human') -> Optional[np.ndarray]:\n",
        "        \"\"\"\n",
        "        Render a state of the environment.\n",
        "\n",
        "        Args:\n",
        "            mode: one of 'human' or 'rgb_array'. Human added only for compatibility.\n",
        "            All rendering will be done in 'rgb arrays' via NumPy.\n",
        "\n",
        "        Returns:\n",
        "            A numpy.ndarray or None.\n",
        "\n",
        "        \"\"\"\n",
        "        assert mode in ['human', 'rgb_array']\n",
        "\n",
        "        screen_size = 600\n",
        "        scale = screen_size / 5\n",
        "\n",
        "        if self.screen is None:\n",
        "            pygame.init()\n",
        "            self.screen = pygame.Surface((screen_size, screen_size))\n",
        "\n",
        "        surf = pygame.Surface((screen_size, screen_size))\n",
        "        surf.fill((22, 36, 71))\n",
        "\n",
        "\n",
        "        for row in range(5):\n",
        "            for col in range(5):\n",
        "\n",
        "                state = (row, col)\n",
        "                for next_state in [(row + 1, col), (row - 1, col), (row, col + 1), (row, col - 1)]:\n",
        "                    if next_state not in self.maze[state]:\n",
        "\n",
        "                        # Add the geometry of the edges and walls (i.e. the boundaries between\n",
        "                        # adjacent squares that are not connected).\n",
        "                        row_diff, col_diff = np.subtract(next_state, state)\n",
        "                        left = (col + (col_diff > 0)) * scale - 2 * (col_diff != 0)\n",
        "                        right = ((col + 1) - (col_diff < 0)) * scale + 2 * (col_diff != 0)\n",
        "                        top = (5 - (row + (row_diff > 0))) * scale - 2 * (row_diff != 0)\n",
        "                        bottom = (5 - ((row + 1) - (row_diff < 0))) * scale + 2 * (row_diff != 0)\n",
        "\n",
        "                        gfxdraw.filled_polygon(surf, [(left, bottom), (left, top), (right, top), (right, bottom)], (255, 255, 255))\n",
        "\n",
        "        # Add the geometry of the goal square to the viewer.\n",
        "        left, right, top, bottom = scale * 4 + 10, scale * 5 - 10, scale - 10, 10\n",
        "        gfxdraw.filled_polygon(surf, [(left, bottom), (left, top), (right, top), (right, bottom)], (40, 199, 172))\n",
        "\n",
        "        # Add the geometry of the agent to the viewer.\n",
        "        agent_row = int(screen_size - scale * (self.state[0] + .5))\n",
        "        agent_col = int(scale * (self.state[1] + .5))\n",
        "        gfxdraw.filled_circle(surf, agent_col, agent_row, int(scale * .6 / 2), (228, 63, 90))\n",
        "\n",
        "        surf = pygame.transform.flip(surf, False, True)\n",
        "        self.screen.blit(surf, (0, 0))\n",
        "\n",
        "        return np.transpose(\n",
        "                np.array(pygame.surfarray.pixels3d(self.screen)), axes=(1, 0, 2)\n",
        "            )\n",
        "\n",
        "    def close(self) -> None:\n",
        "        \"\"\"\n",
        "        Clean up resources before shutting down the environment.\n",
        "\n",
        "        Returns: None.\n",
        "        \"\"\"\n",
        "        if self.screen is not None:\n",
        "            pygame.display.quit()\n",
        "            pygame.quit()\n",
        "            self.screen = None\n",
        "\n",
        "    def compute_reward(self, state: Tuple[int, int], action: int) -> float:\n",
        "        \"\"\"\n",
        "        Compute the reward attained by taking action 'a' at state 's'.\n",
        "\n",
        "        Args:\n",
        "            state: the state of the agent prior to taking the action.\n",
        "            action: the action taken by the agent.\n",
        "\n",
        "        Returns:\n",
        "            A float representing the reward signal received by the agent.\n",
        "\n",
        "        \"\"\"\n",
        "        next_state = self._get_next_state(state, action)\n",
        "        if self.shaped_rewards:\n",
        "            return - (self.distances[next_state] / self.distances.max())\n",
        "        return - float(state != self.goal)\n",
        "\n",
        "    def simulate_step(self, state: Tuple[int, int], action: int):\n",
        "        \"\"\"\n",
        "\n",
        "        Simulate (without taking) a step in the environment.\n",
        "\n",
        "        Args:\n",
        "            state: the state of the agent prior to taking the action.\n",
        "            action: the action to simulate the step with.\n",
        "\n",
        "        Returns:\n",
        "            The next transition.\n",
        "\n",
        "        \"\"\"\n",
        "        reward = self.compute_reward(state, action)\n",
        "        next_state = self._get_next_state(state, action)\n",
        "        done = next_state == self.goal\n",
        "        info = {}\n",
        "        return next_state, reward, done, info\n",
        "\n",
        "    def _get_next_state(self, state: Tuple[int, int], action: int) -> Tuple[int, int]:\n",
        "        \"\"\"\n",
        "        Gets the next state after the agent performs action 'a' in state 's'. If there is a\n",
        "        wall in the way, the next state will be the same as the current.\n",
        "\n",
        "        Args:\n",
        "            state: current state (before taking the action).\n",
        "            action: move performed by the agent.\n",
        "\n",
        "        Returns: a State instance representing the new state.\n",
        "        \"\"\"\n",
        "        if action == 0:\n",
        "            next_state = (state[0] - 1, state[1])\n",
        "        elif action == 1:\n",
        "            next_state = (state[0], state[1] + 1)\n",
        "        elif action == 2:\n",
        "            next_state = (state[0] + 1, state[1])\n",
        "        elif action == 3:\n",
        "            next_state = (state[0], state[1] - 1)\n",
        "        else:\n",
        "            raise ValueError(\"Action value not supported:\", action)\n",
        "        if next_state in self.maze[state]:\n",
        "            return next_state\n",
        "        return state\n",
        "\n",
        "    @staticmethod\n",
        "    def _create_maze(size: int) -> Dict[Tuple[int, int], Iterable[Tuple[int, int]]]:\n",
        "        \"\"\"\n",
        "        Creates a representation of the maze as a dictionary where the keys are\n",
        "        the states available to the agent and the values are lists of adjacent\n",
        "        states.\n",
        "\n",
        "        Args:\n",
        "            size: number of elements of each side in the square grid.\n",
        "\n",
        "        Returns: the adjacency list dictionary.\n",
        "        \"\"\"\n",
        "\n",
        "        maze = {(row, col): [(row - 1, col), (row + 1, col), (row, col - 1), (row, col + 1)]\n",
        "                for row in range(size) for col in range(size)}\n",
        "\n",
        "        left_edges = [[(row, 0), (row, -1)] for row in range(size)]\n",
        "        right_edges = [[(row, size - 1), (row, size)] for row in range(size)]\n",
        "        upper_edges = [[(0, col), (-1, col)] for col in range(size)]\n",
        "        lower_edges = [[(size - 1, col), (size, col)] for col in range(size)]\n",
        "        walls = [\n",
        "            [(1, 0), (1, 1)], [(2, 0), (2, 1)], [(3, 0), (3, 1)],\n",
        "            [(1, 1), (1, 2)], [(2, 1), (2, 2)], [(3, 1), (3, 2)],\n",
        "            [(3, 1), (4, 1)], [(0, 2), (1, 2)], [(1, 2), (1, 3)],\n",
        "            [(2, 2), (3, 2)], [(2, 3), (3, 3)], [(2, 4), (3, 4)],\n",
        "            [(4, 2), (4, 3)], [(1, 3), (1, 4)], [(2, 3), (2, 4)],\n",
        "        ]\n",
        "\n",
        "        obstacles = upper_edges + lower_edges + left_edges + right_edges + walls\n",
        "\n",
        "        for src, dst in obstacles:\n",
        "            maze[src].remove(dst)\n",
        "\n",
        "            if dst in maze:\n",
        "                maze[dst].remove(src)\n",
        "\n",
        "        return maze\n",
        "\n",
        "    @staticmethod\n",
        "    def _compute_distances(goal: Tuple[int, int],\n",
        "                           maze: Dict[Tuple[int, int], Iterable[Tuple[int, int]]]) -> np.ndarray:\n",
        "        \"\"\"\n",
        "        Compute the distance to the goal from all other positions in the maze using Dijkstra's\n",
        "        algorithm.\n",
        "\n",
        "        Args:\n",
        "            goal: A tuple representing the location of the goal in a two-dimensional grid.\n",
        "            maze: A dictionary holding the adjacency lists of all locations in the\n",
        "            two-dimensional grid.\n",
        "\n",
        "        Returns: A (H x W) numpy array holding the minimum number of moves for each position\n",
        "        to reach the goal.\n",
        "\n",
        "        \"\"\"\n",
        "        distances = np.full((5, 5), np.inf)\n",
        "        visited = set()\n",
        "        distances[goal] = 0.\n",
        "\n",
        "        while visited != set(maze):\n",
        "            sorted_dst = [(v // 5, v % 5) for v in distances.argsort(axis=None)]\n",
        "            closest = next(x for x in sorted_dst if x not in visited)\n",
        "            visited.add(closest)\n",
        "\n",
        "            for neighbour in maze[closest]:\n",
        "                distances[neighbour] = min(distances[neighbour], distances[closest] + 1)\n",
        "        return distances\n",
        "\n",
        "env = Maze()\n",
        "env.reset()\n",
        "env.render(mode='rgb_array')"
      ],
      "id": "c6e13b81"
    },
    {
      "cell_type": "code",
      "execution_count": null,
      "metadata": {
        "id": "646500ed"
      },
      "outputs": [],
      "source": [
        "import gym\n",
        "import numpy as np\n",
        "import os\n",
        "os.environ[\"KNP_DUPLICATE_LIB_OK\"] = \"TRUE\"\n",
        "import matplotlib.pyplot as plt\n",
        "from typing import Callable\n",
        "import seaborn as sns\n",
        "from IPython.display import clear_output\n",
        "import numpy as np\n",
        "import matplotlib.pyplot as plt\n",
        "\n"
      ],
      "id": "646500ed"
    },
    {
      "cell_type": "code",
      "execution_count": null,
      "metadata": {
        "id": "127386a1"
      },
      "outputs": [],
      "source": [
        "def plot_policy(probs_or_qvals, frame, action_meanings=None):\n",
        "    if action_meanings is None:\n",
        "        action_meanings = {0: 'U', 1: 'R', 2: 'D', 3: 'L'}\n",
        "    fig, axes = plt.subplots(1, 2, figsize=(12, 6))\n",
        "    max_prob_actions = probs_or_qvals.argmax(axis=-1)\n",
        "    probs_copy = max_prob_actions.copy().astype(np.object)\n",
        "    for key in action_meanings:\n",
        "        probs_copy[probs_copy == key] = action_meanings[key]\n",
        "    sns.heatmap(max_prob_actions, annot=probs_copy, fmt='', cbar=False, cmap='coolwarm',\n",
        "                annot_kws={'weight': 'bold', 'size': 12}, linewidths=2, ax=axes[0])\n",
        "    axes[1].imshow(frame)\n",
        "    axes[0].axis('off')\n",
        "    axes[1].axis('off')\n",
        "    plt.suptitle(\"Policy\", size=24)\n",
        "    plt.tight_layout()\n",
        "    \n",
        "def plot_action_values(action_values):\n",
        "\n",
        "    text_positions = [\n",
        "        [(0.35, 4.75), (1.35, 4.75), (2.35, 4.75), (3.35, 4.75), (4.35, 4.75),\n",
        "         (0.35, 3.75), (1.35, 3.75), (2.35, 3.75), (3.35, 3.75), (4.35, 3.75),\n",
        "         (0.35, 2.75), (1.35, 2.75), (2.35, 2.75), (3.35, 2.75), (4.35, 2.75),\n",
        "         (0.35, 1.75), (1.35, 1.75), (2.35, 1.75), (3.35, 1.75), (4.35, 1.75),\n",
        "         (0.35, 0.75), (1.35, 0.75), (2.35, 0.75), (3.35, 0.75), (4.35, 0.75)],\n",
        "        [(0.6, 4.45), (1.6, 4.45), (2.6, 4.45), (3.6, 4.45), (4.6, 4.45),\n",
        "         (0.6, 3.45), (1.6, 3.45), (2.6, 3.45), (3.6, 3.45), (4.6, 3.45),\n",
        "         (0.6, 2.45), (1.6, 2.45), (2.6, 2.45), (3.6, 2.45), (4.6, 2.45),\n",
        "         (0.6, 1.45), (1.6, 1.45), (2.6, 1.45), (3.6, 1.45), (4.6, 1.45),\n",
        "         (0.6, 0.45), (1.6, 0.45), (2.6, 0.45), (3.6, 0.45), (4.6, 0.45)],\n",
        "        [(0.35, 4.15), (1.35, 4.15), (2.35, 4.15), (3.35, 4.15), (4.35, 4.15),\n",
        "         (0.35, 3.15), (1.35, 3.15), (2.35, 3.15), (3.35, 3.15), (4.35, 3.15),\n",
        "         (0.35, 2.15), (1.35, 2.15), (2.35, 2.15), (3.35, 2.15), (4.35, 2.15),\n",
        "         (0.35, 1.15), (1.35, 1.15), (2.35, 1.15), (3.35, 1.15), (4.35, 1.15),\n",
        "         (0.35, 0.15), (1.35, 0.15), (2.35, 0.15), (3.35, 0.15), (4.35, 0.15)],\n",
        "        [(0.05, 4.45), (1.05, 4.45), (2.05, 4.45), (3.05, 4.45), (4.05, 4.45),\n",
        "         (0.05, 3.45), (1.05, 3.45), (2.05, 3.45), (3.05, 3.45), (4.05, 3.45),\n",
        "         (0.05, 2.45), (1.05, 2.45), (2.05, 2.45), (3.05, 2.45), (4.05, 2.45),\n",
        "         (0.05, 1.45), (1.05, 1.45), (2.05, 1.45), (3.05, 1.45), (4.05, 1.45),\n",
        "         (0.05, 0.45), (1.05, 0.45), (2.05, 0.45), (3.05, 0.45), (4.05, 0.45)]]\n",
        "\n",
        "    fig, ax = plt.subplots(figsize=(9, 9))\n",
        "    tripcolor = quatromatrix(action_values, ax=ax,\n",
        "                             triplotkw={\"color\": \"k\", \"lw\": 1}, tripcolorkw={\"cmap\": \"coolwarm\"})\n",
        "    ax.margins(0)\n",
        "    ax.set_aspect(\"equal\")\n",
        "    fig.colorbar(tripcolor)\n",
        "\n",
        "    for j, av in enumerate(text_positions):\n",
        "        for i, (xi, yi) in enumerate(av):\n",
        "            plt.text(xi, yi, round(action_values[:, :, j].flatten()[i], 2), size=10, color=\"w\", weight=\"bold\")\n",
        "\n",
        "    plt.title(\"Action values Q(s,a)\", size=18)\n",
        "    plt.tight_layout()\n",
        "    plt.show()\n",
        "    \n",
        "def test_agent(env: gym.Env, policy: Callable, episodes: int = 10, step_limit: int = 25) -> int:\n",
        "    plt.figure(figsize=(8, 8))\n",
        "    success_count = 0\n",
        "    for episode in range(episodes):\n",
        "        state = env.reset()\n",
        "        done = False\n",
        "        img = plt.imshow(env.render())\n",
        "        step_count = 0  # initialize step count to zero for each episode\n",
        "        while not done:\n",
        "            p = policy(state)                     \n",
        "            if isinstance(p, np.ndarray):         \n",
        "                action = np.random.choice(4, p=p) \n",
        "            else:\n",
        "                action = p\n",
        "            next_state, _, done, _ = env.step(action) \n",
        "            img.set_data(env.render())\n",
        "            plt.axis('off')\n",
        "            display(plt.gcf())\n",
        "            clear_output(wait=True)\n",
        "            state = next_state\n",
        "            step_count += 1\n",
        "            if step_count >= step_limit:  # terminate the episode if step limit is exceeded\n",
        "                break\n",
        "        if done:\n",
        "            success_count += 1\n",
        "    return success_count\n",
        "\n",
        "def quatromatrix(action_values, ax=None, triplotkw=None, tripcolorkw=None):\n",
        "    action_values = np.flipud(action_values)\n",
        "    n = 5\n",
        "    m = 5\n",
        "    a = np.array([[0, 0], [0, 1], [.5, .5], [1, 0], [1, 1]])\n",
        "    tr = np.array([[0, 1, 2], [0, 2, 3], [2, 3, 4], [1, 2, 4]])\n",
        "    A = np.zeros((n * m * 5, 2))\n",
        "    Tr = np.zeros((n * m * 4, 3))\n",
        "    for i in range(n):\n",
        "        for j in range(m):\n",
        "            k = i * m + j\n",
        "            A[k * 5:(k + 1) * 5, :] = np.c_[a[:, 0] + j, a[:, 1] + i]\n",
        "            Tr[k * 4:(k + 1) * 4, :] = tr + k * 5\n",
        "    C = np.c_[action_values[:, :, 3].flatten(), action_values[:, :, 2].flatten(),\n",
        "              action_values[:, :, 1].flatten(), action_values[:, :, 0].flatten()].flatten()\n",
        "\n",
        "    ax.triplot(A[:, 0], A[:, 1], Tr, **triplotkw)\n",
        "    tripcolor = ax.tripcolor(A[:, 0], A[:, 1], Tr, facecolors=C, **tripcolorkw)\n",
        "    return tripcolor\n",
        "\n"
      ],
      "id": "127386a1"
    },
    {
      "cell_type": "code",
      "execution_count": null,
      "metadata": {
        "colab": {
          "base_uri": "https://localhost:8080/",
          "height": 441
        },
        "id": "a97340b3",
        "outputId": "ecee0c93-a2cc-4c67-b637-d645d8bb98a1"
      },
      "outputs": [
        {
          "name": "stdout",
          "output_type": "stream",
          "text": [
            "Observation space shape: [5 5]\n",
            "Number of actions: 4\n"
          ]
        },
        {
          "data": {
            "image/png": "[encoded data removed]",
            "text/plain": [
              "<Figure size 640x480 with 1 Axes>"
            ]
          },
          "metadata": {},
          "output_type": "display_data"
        }
      ],
      "source": [
        "env = Maze()\n",
        "frame = env.render(mode='rgb_array')\n",
        "plt.axis('off')\n",
        "plt.imshow(frame)\n",
        "print(f\"Observation space shape: {env.observation_space.nvec}\")\n",
        "print(f\"Number of actions: {env.action_space.n}\")"
      ],
      "id": "a97340b3"
    },
    {
      "cell_type": "code",
      "execution_count": null,
      "metadata": {
        "id": "4c1d43ef"
      },
      "outputs": [],
      "source": [
        "action_values = np.zeros(shape = (5,5,4))"
      ],
      "id": "4c1d43ef"
    },
    {
      "cell_type": "code",
      "execution_count": null,
      "metadata": {
        "id": "7ec0f94a"
      },
      "outputs": [],
      "source": [
        "def policy(state, epsilon = 0.):\n",
        "    if np.random.random() < epsilon:\n",
        "        return np.random.randint(4)\n",
        "    else:\n",
        "        av = action_values[state]\n",
        "        return np.random.choice(np.flatnonzero(av == av.max()))"
      ],
      "id": "7ec0f94a"
    },
    {
      "cell_type": "code",
      "execution_count": null,
      "metadata": {
        "colab": {
          "base_uri": "https://localhost:8080/"
        },
        "id": "a7534543",
        "outputId": "6de72fb3-69dc-4cd5-e653-bf2853d2cb7a"
      },
      "outputs": [
        {
          "data": {
            "text/plain": [
              "array([False,  True, False, False])"
            ]
          },
          "execution_count": 22,
          "metadata": {},
          "output_type": "execute_result"
        }
      ],
      "source": [
        "av = action_values[(0,0)]\n",
        "av = np.array([1,7,2,1])\n",
        "av == av.max()"
      ],
      "id": "a7534543"
    },
    {
      "cell_type": "code",
      "execution_count": null,
      "metadata": {
        "colab": {
          "base_uri": "https://localhost:8080/"
        },
        "id": "ae830748",
        "outputId": "47d270a0-d820-4c5d-daf2-71b82817c5ef"
      },
      "outputs": [
        {
          "data": {
            "text/plain": [
              "array([1])"
            ]
          },
          "execution_count": 23,
          "metadata": {},
          "output_type": "execute_result"
        }
      ],
      "source": [
        "av = action_values[(0,0)]\n",
        "av = np.array([1,7,5,6])\n",
        "np.flatnonzero(av == av.max())"
      ],
      "id": "ae830748"
    },
    {
      "cell_type": "code",
      "execution_count": null,
      "metadata": {
        "id": "0e4e358c",
        "scrolled": true
      },
      "outputs": [],
      "source": [
        "def test_agent_no_image(env: gym.Env, policy: Callable, episodes: int = 100, max_steps: int = 25) -> float:\n",
        "    success_count = 0\n",
        "    for episode in range(episodes):\n",
        "        state = env.reset()\n",
        "        done = False\n",
        "        steps = 0\n",
        "        while not done and steps < max_steps:\n",
        "            action = policy(state)\n",
        "            state, _, done, _ = env.step(action)\n",
        "            steps += 1\n",
        "        if done:\n",
        "            success_count += 1\n",
        "    success_rate = (success_count / episodes) * 100\n",
        "    return success_rate"
      ],
      "id": "0e4e358c"
    },
    {
      "cell_type": "code",
      "execution_count": null,
      "metadata": {
        "colab": {
          "base_uri": "https://localhost:8080/",
          "height": 311
        },
        "id": "hv5pQFlueIrk",
        "outputId": "12f472ec-c6a9-4100-cd12-2d4a53136bea"
      },
      "outputs": [
        {
          "ename": "KeyboardInterrupt",
          "evalue": "ignored",
          "output_type": "error",
          "traceback": [
            "\u001b[0;31m---------------------------------------------------------------------------\u001b[0m",
            "\u001b[0;31mKeyboardInterrupt\u001b[0m                         Traceback (most recent call last)",
            "\u001b[0;32m<ipython-input-26-53df10c3a898>\u001b[0m in \u001b[0;36m<cell line: 2>\u001b[0;34m()\u001b[0m\n\u001b[1;32m      1\u001b[0m \u001b[0maction_values\u001b[0m \u001b[0;34m=\u001b[0m \u001b[0mnp\u001b[0m\u001b[0;34m.\u001b[0m\u001b[0mzeros\u001b[0m\u001b[0;34m(\u001b[0m\u001b[0mshape\u001b[0m \u001b[0;34m=\u001b[0m \u001b[0;34m(\u001b[0m\u001b[0;36m5\u001b[0m\u001b[0;34m,\u001b[0m\u001b[0;36m5\u001b[0m\u001b[0;34m,\u001b[0m\u001b[0;36m4\u001b[0m\u001b[0;34m)\u001b[0m\u001b[0;34m)\u001b[0m\u001b[0;34m\u001b[0m\u001b[0;34m\u001b[0m\u001b[0m\n\u001b[0;32m----> 2\u001b[0;31m \u001b[0mon_policy_mc\u001b[0m\u001b[0;34m(\u001b[0m\u001b[0mpolicy\u001b[0m\u001b[0;34m,\u001b[0m \u001b[0maction_values\u001b[0m\u001b[0;34m,\u001b[0m \u001b[0;36m2000\u001b[0m\u001b[0;34m)\u001b[0m\u001b[0;34m\u001b[0m\u001b[0;34m\u001b[0m\u001b[0m\n\u001b[0m\u001b[1;32m      3\u001b[0m \u001b[0mtest_agent_no_image\u001b[0m\u001b[0;34m(\u001b[0m\u001b[0menv\u001b[0m\u001b[0;34m,\u001b[0m \u001b[0mpolicy\u001b[0m\u001b[0;34m)\u001b[0m\u001b[0;34m\u001b[0m\u001b[0;34m\u001b[0m\u001b[0m\n",
            "\u001b[0;32m<ipython-input-13-b6d4c12e89ef>\u001b[0m in \u001b[0;36mon_policy_mc\u001b[0;34m(policy, action_values, episodes, gamma, epsilon)\u001b[0m\n\u001b[1;32m      9\u001b[0m             \u001b[0;31m# do stuff, take steps, find the goal\u001b[0m\u001b[0;34m\u001b[0m\u001b[0;34m\u001b[0m\u001b[0m\n\u001b[1;32m     10\u001b[0m             \u001b[0;31m# decide on an action\u001b[0m\u001b[0;34m\u001b[0m\u001b[0;34m\u001b[0m\u001b[0m\n\u001b[0;32m---> 11\u001b[0;31m             \u001b[0maction\u001b[0m \u001b[0;34m=\u001b[0m \u001b[0mpolicy\u001b[0m\u001b[0;34m(\u001b[0m\u001b[0mstate\u001b[0m\u001b[0;34m,\u001b[0m \u001b[0mepsilon\u001b[0m\u001b[0;34m)\u001b[0m\u001b[0;34m\u001b[0m\u001b[0;34m\u001b[0m\u001b[0m\n\u001b[0m\u001b[1;32m     12\u001b[0m             \u001b[0mnext_state\u001b[0m\u001b[0;34m,\u001b[0m \u001b[0mreward\u001b[0m\u001b[0;34m,\u001b[0m \u001b[0mdone\u001b[0m\u001b[0;34m,\u001b[0m \u001b[0m_\u001b[0m \u001b[0;34m=\u001b[0m \u001b[0menv\u001b[0m\u001b[0;34m.\u001b[0m\u001b[0mstep\u001b[0m\u001b[0;34m(\u001b[0m\u001b[0maction\u001b[0m\u001b[0;34m)\u001b[0m\u001b[0;34m\u001b[0m\u001b[0;34m\u001b[0m\u001b[0m\n\u001b[1;32m     13\u001b[0m             \u001b[0mtrajectory\u001b[0m\u001b[0;34m.\u001b[0m\u001b[0mappend\u001b[0m\u001b[0;34m(\u001b[0m\u001b[0;34m[\u001b[0m\u001b[0mstate\u001b[0m\u001b[0;34m,\u001b[0m \u001b[0maction\u001b[0m\u001b[0;34m,\u001b[0m \u001b[0mreward\u001b[0m\u001b[0;34m]\u001b[0m\u001b[0;34m)\u001b[0m\u001b[0;34m\u001b[0m\u001b[0;34m\u001b[0m\u001b[0m\n",
            "\u001b[0;32m<ipython-input-22-b5756cadefcf>\u001b[0m in \u001b[0;36mpolicy\u001b[0;34m(state, epsilon)\u001b[0m\n\u001b[1;32m      4\u001b[0m     \u001b[0;32melse\u001b[0m\u001b[0;34m:\u001b[0m\u001b[0;34m\u001b[0m\u001b[0;34m\u001b[0m\u001b[0m\n\u001b[1;32m      5\u001b[0m         \u001b[0mav\u001b[0m \u001b[0;34m=\u001b[0m \u001b[0maction_values\u001b[0m\u001b[0;34m[\u001b[0m\u001b[0mstate\u001b[0m\u001b[0;34m]\u001b[0m\u001b[0;34m\u001b[0m\u001b[0;34m\u001b[0m\u001b[0m\n\u001b[0;32m----> 6\u001b[0;31m         \u001b[0;32mreturn\u001b[0m \u001b[0mnp\u001b[0m\u001b[0;34m.\u001b[0m\u001b[0mrandom\u001b[0m\u001b[0;34m.\u001b[0m\u001b[0mchoice\u001b[0m\u001b[0;34m(\u001b[0m\u001b[0mnp\u001b[0m\u001b[0;34m.\u001b[0m\u001b[0mflatnonzero\u001b[0m\u001b[0;34m(\u001b[0m\u001b[0mav\u001b[0m \u001b[0;34m==\u001b[0m \u001b[0mav\u001b[0m\u001b[0;34m.\u001b[0m\u001b[0mmax\u001b[0m\u001b[0;34m(\u001b[0m\u001b[0;34m)\u001b[0m\u001b[0;34m)\u001b[0m\u001b[0;34m)\u001b[0m\u001b[0;34m\u001b[0m\u001b[0;34m\u001b[0m\u001b[0m\n\u001b[0m",
            "\u001b[0;31mKeyboardInterrupt\u001b[0m: "
          ]
        }
      ],
      "source": [
        "action_values = np.zeros(shape = (5,5,4))\n",
        "on_policy_mc(policy, action_values, 2000)\n",
        "test_agent_no_image(env, policy)"
      ],
      "id": "hv5pQFlueIrk"
    },
    {
      "cell_type": "code",
      "execution_count": null,
      "metadata": {
        "id": "e6f72c41"
      },
      "outputs": [],
      "source": [
        "def on_policy_mc(policy, action_values, episodes, gamma=0.99, epsilon=0.2):\n",
        "    sa_values = {}  # will hold a key of (state, action) and value of value\n",
        "    for _ in range(episodes):\n",
        "        state = env.reset()\n",
        "        # generate a trajectory\n",
        "        trajectory = []\n",
        "        done = False\n",
        "        while not done:\n",
        "            # do stuff, take steps, find the goal\n",
        "            # decide on an action\n",
        "            action = policy(state, epsilon)\n",
        "            next_state, reward, done, _ = env.step(action)\n",
        "            trajectory.append([state, action, reward])\n",
        "            state = next_state\n",
        "        # trajectory now holds all relevant information\n",
        "        # loop through trajectory backwards to get rewards\n",
        "        G = 0\n",
        "        for i in range(len(trajectory) - 1, 0, -1):\n",
        "            s = trajectory[i][0]\n",
        "            a = trajectory[i][1]\n",
        "            r = trajectory[i][2]\n",
        "            G = r + gamma * G\n",
        "            if not (s, a) in sa_values:\n",
        "                sa_values[(s, a)] = []\n",
        "            sa_values[(s, a)].append(G)\n",
        "            action_values[s][a] = np.mean(sa_values[(s, a)])\n",
        "            # or you could write action_values[s][a] = action_values[s][a] + epsilon * (G - action_values[s][a])\n"
      ],
      "id": "e6f72c41"
    },
    {
      "cell_type": "code",
      "execution_count": null,
      "metadata": {
        "colab": {
          "base_uri": "https://localhost:8080/",
          "height": 489
        },
        "id": "P9qMrLC4hId-",
        "outputId": "03945a85-dba8-4dbb-b4fc-0a5b770b803c"
      },
      "outputs": [
        {
          "name": "stderr",
          "output_type": "stream",
          "text": [
            "100%|██████████| 10/10 [01:57<00:00, 11.77s/it]\n"
          ]
        },
        {
          "data": {
            "image/png": "[encoded data removed]",
            "text/plain": [
              "<Figure size 640x480 with 1 Axes>"
            ]
          },
          "metadata": {},
          "output_type": "display_data"
        }
      ],
      "source": [
        "from tqdm import tqdm\n",
        "import numpy as np\n",
        "import matplotlib.pyplot as plt\n",
        "\n",
        "n_runs = 10\n",
        "success_rates = []\n",
        "action_values = np.zeros(shape=(5, 5, 4))\n",
        "\n",
        "for i in tqdm(range(n_runs)):\n",
        "    on_policy_mc(policy, action_values, 2000)\n",
        "    success_rate = test_agent_no_image(env, policy)\n",
        "    success_rates.append(success_rate)\n",
        "\n",
        "plt.plot(range(1, n_runs+1), success_rates)\n",
        "plt.xlabel('Run Number')\n",
        "plt.ylabel('Success Rate')\n",
        "plt.title('Success Rate over Multiple Runs')\n",
        "\n",
        "plt.show()\n"
      ],
      "id": "P9qMrLC4hId-"
    },
    {
      "cell_type": "code",
      "execution_count": null,
      "metadata": {
        "colab": {
          "base_uri": "https://localhost:8080/",
          "height": 489
        },
        "id": "DnUqcOMLmAdq",
        "outputId": "9c552e84-96b9-4ab7-baf5-5f310de0b669"
      },
      "outputs": [
        {
          "name": "stderr",
          "output_type": "stream",
          "text": [
            "100%|██████████| 10/10 [01:07<00:00,  6.79s/it]\n"
          ]
        },
        {
          "data": {
            "image/png": "[encoded data removed]",
            "text/plain": [
              "<Figure size 640x480 with 1 Axes>"
            ]
          },
          "metadata": {},
          "output_type": "display_data"
        }
      ],
      "source": [
        "from tqdm import tqdm\n",
        "import numpy as np\n",
        "import matplotlib.pyplot as plt\n",
        "\n",
        "n_runs = 10\n",
        "success_rates = []\n",
        "action_values = np.zeros(shape=(5, 5, 4))\n",
        "\n",
        "\n",
        "for i in tqdm(range(n_runs)):\n",
        "    on_policy_mc(policy, action_values, 1000)\n",
        "    success_rate = test_agent_no_image(env, policy)\n",
        "    success_rates.append(success_rate)\n",
        "\n",
        "plt.plot(range(1, n_runs+1), success_rates)\n",
        "plt.xlabel('Run Number')\n",
        "plt.ylabel('Success Rate')\n",
        "plt.title('Success Rate over Multiple Runs')\n",
        "\n",
        "plt.show()\n"
      ],
      "id": "DnUqcOMLmAdq"
    },
    {
      "cell_type": "code",
      "execution_count": null,
      "metadata": {
        "colab": {
          "base_uri": "https://localhost:8080/",
          "height": 489
        },
        "id": "OjTKZgPimC4b",
        "outputId": "5e34aee4-db0d-4067-a215-def7c515818a"
      },
      "outputs": [
        {
          "name": "stderr",
          "output_type": "stream",
          "text": [
            "100%|██████████| 10/10 [02:22<00:00, 14.21s/it]\n"
          ]
        },
        {
          "data": {
            "image/png": "[encoded data removed]",
            "text/plain": [
              "<Figure size 640x480 with 1 Axes>"
            ]
          },
          "metadata": {},
          "output_type": "display_data"
        }
      ],
      "source": [
        "from tqdm import tqdm\n",
        "import numpy as np\n",
        "import matplotlib.pyplot as plt\n",
        "\n",
        "action_values = np.zeros(shape=(5, 5, 4))\n",
        "\n",
        "n_runs = 10\n",
        "success_rates = []\n",
        "\n",
        "for i in tqdm(range(n_runs)):\n",
        "    on_policy_mc(policy, action_values, 3000)\n",
        "    success_rate = test_agent_no_image(env, policy)\n",
        "    success_rates.append(success_rate)\n",
        "\n",
        "plt.plot(range(1, n_runs+1), success_rates)\n",
        "plt.xlabel('Run Number')\n",
        "plt.ylabel('Success Rate')\n",
        "plt.title('Success Rate over Multiple Runs')\n",
        "\n",
        "plt.show()\n"
      ],
      "id": "OjTKZgPimC4b"
    },
    {
      "cell_type": "code",
      "execution_count": null,
      "metadata": {
        "colab": {
          "background_save": true,
          "base_uri": "https://localhost:8080/"
        },
        "id": "5fIAFatJmG6x",
        "outputId": "76a43419-abb6-4faf-d51d-33dd1f0276b4"
      },
      "outputs": [
        {
          "name": "stderr",
          "output_type": "stream",
          "text": [
            "100%|██████████| 10/10 [02:16<00:00, 13.63s/it]\n",
            " 20%|██        | 2/10 [00:05<00:26,  3.26s/it]"
          ]
        }
      ],
      "source": [
        "from tqdm import tqdm\n",
        "import numpy as np\n",
        "import matplotlib.pyplot as plt\n",
        "\n",
        "n_runs = 10\n",
        "epsilon_values = [0.1, 0.2, 0.3]\n",
        "gamma_values = [0.99, 0.90, 0.80]\n",
        "action_values = np.zeros(shape=(5, 5, 4))\n",
        "\n",
        "\n",
        "success_rates = []\n",
        "\n",
        "for epsilon in epsilon_values:\n",
        "    for gamma in gamma_values:\n",
        "        gamma_epsilon_success_rates = []\n",
        "        for i in tqdm(range(n_runs)):\n",
        "            on_policy_mc(policy, action_values, 1000, gamma, epsilon)\n",
        "            success_rate = test_agent_no_image(env, policy)\n",
        "            gamma_epsilon_success_rates.append(success_rate)\n",
        "        success_rates.append(gamma_epsilon_success_rates)\n",
        "\n",
        "# Plot the results\n",
        "fig, axs = plt.subplots(len(gamma_values), len(epsilon_values), figsize=(12, 8))\n",
        "for i in range(len(gamma_values)):\n",
        "    for j in range(len(epsilon_values)):\n",
        "        axs[i][j].plot(range(1, n_runs+1), success_rates[i*len(epsilon_values) + j])\n",
        "        axs[i][j].set_xlabel('Run Number')\n",
        "        axs[i][j].set_ylabel('Success Rate')\n",
        "        axs[i][j].set_title(f'Gamma={gamma_values[i]}, Epsilon={epsilon_values[j]}')\n",
        "plt.tight_layout()\n",
        "plt.show()\n",
        "\n"
      ],
      "id": "5fIAFatJmG6x"
    },
    {
      "cell_type": "code",
      "execution_count": null,
      "metadata": {
        "id": "5340e7ef"
      },
      "outputs": [],
      "source": [
        "plot_action_values(action_values)"
      ],
      "id": "5340e7ef"
    },
    {
      "cell_type": "code",
      "execution_count": null,
      "metadata": {
        "id": "6ec1f73b"
      },
      "outputs": [],
      "source": [
        "plot_policy(action_values, frame)"
      ],
      "id": "6ec1f73b"
    },
    {
      "cell_type": "code",
      "execution_count": null,
      "metadata": {
        "id": "4b664187",
        "scrolled": false
      },
      "outputs": [],
      "source": [
        "test_agent(env, policy, episodes = 5)"
      ],
      "id": "4b664187"
    }
  ],
  "metadata": {
    "colab": {
      "provenance": []
    },
    "kernelspec": {
      "display_name": "Python 3 (ipykernel)",
      "language": "python",
      "name": "python3"
    },
    "language_info": {
      "codemirror_mode": {
        "name": "ipython",
        "version": 3
      },
      "file_extension": ".py",
      "mimetype": "text/x-python",
      "name": "python",
      "nbconvert_exporter": "python",
      "pygments_lexer": "ipython3",
      "version": "3.9.13"
    }
  },
  "nbformat": 4,
  "nbformat_minor": 5
}